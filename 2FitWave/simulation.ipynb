{
 "cells": [
  {
   "cell_type": "code",
   "execution_count": 1,
   "id": "60220fa6",
   "metadata": {},
   "outputs": [],
   "source": [
    "const int L = 5;            // average parameter\n",
    "const int interval = 100;   // for standard waveform length and pileup\n",
    "const int rangeuseleft = -15;\n",
    "const int rangeuseright = 75;\n",
    "int rangeleft = 0;\n",
    "int rangeright = 2*interval;"
   ]
  },
  {
   "cell_type": "code",
   "execution_count": 2,
   "id": "8fc29266",
   "metadata": {
    "scrolled": true
   },
   "outputs": [
    {
     "name": "stderr",
     "output_type": "stream",
     "text": [
      "Warning in <TClass::Init>: no dictionary for class dets is available\n"
     ]
    }
   ],
   "source": [
    "%jsroot on\n",
    "TFile *ipf1 = new TFile(\"../../data/standardwave_0314_W200.root\");\n",
    "TGraph *gstd = (TGraph*)ipf1->Get(\"waveLaBr3_0\");\n",
    "TCanvas *c1 = new TCanvas;\n",
    "TRandom3 *gr = new TRandom3(0);"
   ]
  },
  {
   "cell_type": "code",
   "execution_count": 3,
   "id": "7f473e7a",
   "metadata": {},
   "outputs": [],
   "source": [
    "double ffit(double *val, double *par)\n",
    "{\n",
    "    double x = val[0];\n",
    "    int npeaks = par[0];\n",
    "    \n",
    "    double wave = 0;\n",
    "    for (int ipeak = 0; ipeak < npeaks; ipeak++){\n",
    "        double A = par[3*ipeak+1];\n",
    "        double pos = par[3*ipeak+2];\n",
    "        //int type = par[3*ipeak+3];\n",
    "        \n",
    "        if ( x - pos < rangeuseleft || x - pos > rangeuseright )\n",
    "            wave += 0;\n",
    "        else\n",
    "            wave += A * gstd->Eval(x - pos + interval);\n",
    "    }\n",
    "    return wave;\n",
    "}"
   ]
  },
  {
   "cell_type": "code",
   "execution_count": 4,
   "id": "db2685d2",
   "metadata": {},
   "outputs": [],
   "source": [
    "const int npeaks0 = 4;\n",
    "const double noise = 6;"
   ]
  },
  {
   "cell_type": "code",
   "execution_count": 5,
   "id": "9e78c89b",
   "metadata": {},
   "outputs": [],
   "source": [
    "TF1 *f0 = new TF1(\"f0\", ffit, 0, 2*interval, 3*npeaks0+1);\n",
    "double par0[] = {npeaks0, gr->Uniform(500, 5000), gr->Uniform(50, 100), 0, \n",
    "                          gr->Uniform(500, 5000), gr->Uniform(50, 100), 0, \n",
    "                          gr->Uniform(500, 5000), gr->Uniform(50, 100), 0, \n",
    "                          gr->Uniform(500, 5000), gr->Uniform(50, 100), 0};\n",
    "f0->SetParameters(par0);"
   ]
  },
  {
   "cell_type": "code",
   "execution_count": 6,
   "id": "a02f56c2",
   "metadata": {},
   "outputs": [],
   "source": [
    "TGraph *gspe = new TGraph;\n",
    "for (int ipnt = rangeleft; ipnt < rangeright; ipnt++){\n",
    "    double Noise;\n",
    "    do {\n",
    "        Noise = gr->Gaus(0, noise);\n",
    "    } while (abs(Noise) > 20);\n",
    "    gspe->SetPoint( ipnt, ipnt, f0->Eval(ipnt) + Noise );\n",
    "}"
   ]
  },
  {
   "cell_type": "code",
   "execution_count": 7,
   "id": "7384f05e",
   "metadata": {},
   "outputs": [],
   "source": [
    "TH1D *hspe = new TH1D(\"hspe\", \"hspe\", rangeright-rangeleft, rangeleft, rangeright);\n",
    "for (int ipnt = rangeleft; ipnt < rangeright; ipnt++)\n",
    "    hspe->SetBinContent(ipnt+1, gspe->GetPointY(ipnt));\n",
    "TSpectrum *s = new TSpectrum(500);\n",
    "int nfound = s->Search(hspe, 2, \"\", 0.05);\n",
    "Double_t *xpeaks = s->GetPositionX();\n",
    "vector<int> vmaxpnt;\n",
    "for (int ipeak = 0; ipeak < nfound; ipeak++)\n",
    "    vmaxpnt.push_back(xpeaks[ipeak]);"
   ]
  },
  {
   "cell_type": "code",
   "execution_count": 8,
   "id": "6908b1b2",
   "metadata": {},
   "outputs": [],
   "source": [
    "TF1 *f;\n",
    "double maxdiff = 0, mindiff = 0;\n",
    "int maxpnt = -1, minpnt = -1;\n",
    "double chi2ndf = -1;\n",
    "bool firstfit = true;"
   ]
  },
  {
   "cell_type": "code",
   "execution_count": 9,
   "id": "391ac515",
   "metadata": {
    "scrolled": false
   },
   "outputs": [
    {
     "name": "stdout",
     "output_type": "stream",
     "text": [
      "\n",
      "****************************************\n",
      "         Invalid FitResult  (status = 4 )\n",
      "****************************************\n",
      "Minimizer is Minuit / Migrad\n",
      "Chi2                      =  4.54837e+06\n",
      "NDf                       =          196\n",
      "Edm                       =       159325\n",
      "NCalls                    =          165\n",
      "p0                        =            2                      \t (fixed)\n",
      "p1                        =      5578.83   +/-   41.1446      \t (limited)\n",
      "p2                        =       58.373   +/-   0.0734895    \t (limited)\n",
      "p3                        =            0                      \t (fixed)\n",
      "p4                        =      2516.18   +/-   41.1236      \t (limited)\n",
      "p5                        =           98   +/-   0.000273009  \t (limited)\n",
      "p6                        =            0                      \t (fixed)\n",
      "\n",
      "****************************************\n",
      "Minimizer is Minuit / Migrad\n",
      "Chi2                      =      7800.63\n",
      "NDf                       =          194\n",
      "Edm                       =   1.2436e-08\n",
      "NCalls                    =          478\n",
      "p0                        =            3                      \t (fixed)\n",
      "p1                        =      2317.44   +/-   9.92352      \t (limited)\n",
      "p2                        =      62.6304   +/-   0.0189516    \t (limited)\n",
      "p3                        =            0                      \t (fixed)\n",
      "p4                        =      2494.33   +/-   1.71956      \t (limited)\n",
      "p5                        =      98.2276   +/-   0.00679605   \t (limited)\n",
      "p6                        =            0                      \t (fixed)\n",
      "p7                        =      3568.54   +/-   9.91647      \t (limited)\n",
      "p8                        =      55.8301   +/-   0.0111917    \t (limited)\n",
      "p9                        =            0                      \t (fixed)\n"
     ]
    },
    {
     "name": "stderr",
     "output_type": "stream",
     "text": [
      "Warning in <Fit>: Abnormal termination of minimization.\n"
     ]
    }
   ],
   "source": [
    "do {\n",
    "    int npeaks = vmaxpnt.size();\n",
    "    \n",
    "    f = new TF1(\"ffit\", ffit, rangeleft, rangeright, 3*npeaks+1);\n",
    "    f->SetNpx(rangeright-rangeleft);\n",
    "\n",
    "    f->FixParameter(0, npeaks);\n",
    "    for (int ipeak = 0; ipeak < npeaks; ipeak++){\n",
    "        f->SetParameter(3*ipeak+1, gspe->GetPointY(vmaxpnt[ipeak]));\n",
    "        f->SetParLimits(3*ipeak+1, 0, 2*gspe->GetPointY(vmaxpnt[ipeak]));\n",
    "        f->SetParameter(3*ipeak+2, vmaxpnt[ipeak]);\n",
    "        f->SetParLimits(3*ipeak+2, 0, 2*interval);\n",
    "        f->FixParameter(3*ipeak+3, 0);\n",
    "    }\n",
    "\n",
    "    TFitResultPtr fr = gspe->Fit(f, \"SR\", \"\", rangeleft, rangeright);\n",
    "    chi2ndf = fr->Chi2() / fr->Ndf();\n",
    "\n",
    "    maxdiff = 0;\n",
    "    maxpnt = -1;\n",
    "    mindiff = 0;\n",
    "    minpnt = -1;\n",
    "    for (int ipnt = rangeleft; ipnt < rangeright; ipnt++){\n",
    "        double diff = ( gspe->GetPointY(ipnt) - f->Eval(ipnt) );\n",
    "        if (diff > maxdiff){\n",
    "            maxpnt = ipnt;\n",
    "            maxdiff = diff;\n",
    "        }\n",
    "        if (diff < mindiff){\n",
    "            minpnt = ipnt;\n",
    "            mindiff = diff;\n",
    "        }\n",
    "    }\n",
    "                    \n",
    "    bool repeat = false;\n",
    "    for (int imaxpnt : vmaxpnt)\n",
    "        if ( abs(maxpnt-imaxpnt) <= 2 ){\n",
    "            repeat = true;\n",
    "            break;\n",
    "        }\n",
    "                    \n",
    "    if (!repeat)\n",
    "        vmaxpnt.push_back(maxpnt);\n",
    "    else\n",
    "        vmaxpnt.push_back(minpnt);\n",
    "} while (chi2ndf > 50 && int(vmaxpnt.size()) < nfound + 5);"
   ]
  },
  {
   "cell_type": "code",
   "execution_count": 10,
   "id": "178e8931",
   "metadata": {},
   "outputs": [
    {
     "data": {
      "text/html": [
       "\n",
       "<div id=\"root_plot_1695112573850\"\n",
       "     style=\"width: 696px; height: 472px\">\n",
       "</div>\n",
       "<script>\n",
       "if (typeof require !== 'undefined') {\n",
       "\n",
       "    // All requirements met (we are in jupyter notebooks or we loaded requirejs before).\n",
       "    display_root_plot_1695112573850();\n",
       "\n",
       "} else {\n",
       "\n",
       "    // We are in jupyterlab, we need to insert requirejs and configure it.\n",
       "    // Jupyterlab might be installed in a different base_url so we need to know it.\n",
       "    try {\n",
       "        var base_url = JSON.parse(document.getElementById('jupyter-config-data').innerHTML).baseUrl;\n",
       "    } catch(_) {\n",
       "        var base_url = '/';\n",
       "    }\n",
       "\n",
       "    // Try loading a local version of requirejs and fallback to cdn if not possible.\n",
       "    requirejs_load(base_url + 'static/components/requirejs/require.js', requirejs_success(base_url), function(){\n",
       "        requirejs_load('https://cdnjs.cloudflare.com/ajax/libs/require.js/2.2.0/require.min.js', requirejs_success(base_url), function(){\n",
       "            document.getElementById(\"root_plot_1695112573850\").innerHTML = \"Failed to load requireJs\";\n",
       "        });\n",
       "    });\n",
       "}\n",
       "\n",
       "function requirejs_load(src, on_load, on_error) {\n",
       "    var script = document.createElement('script');\n",
       "    script.src = src;\n",
       "    script.onload = on_load;\n",
       "    script.onerror = on_error;\n",
       "    document.head.appendChild(script);\n",
       "}\n",
       "\n",
       "function requirejs_success(base_url) {\n",
       "    return function() {\n",
       "        require.config({\n",
       "            baseUrl: base_url + 'static/'\n",
       "        });\n",
       "        display_root_plot_1695112573850();\n",
       "    }\n",
       "}\n",
       "\n",
       "function display_root_plot_1695112573850() {\n",
       "    require(['scripts/JSRootCore'],\n",
       "        function(Core) {\n",
       "            var obj = Core.JSONR_unref({\"_typename\":\"TCanvas\",\"fUniqueID\":0,\"fBits\":3342344,\"fLineColor\":1,\"fLineStyle\":1,\"fLineWidth\":1,\"fFillColor\":0,\"fFillStyle\":1001,\"fLeftMargin\":0.1,\"fRightMargin\":0.1,\"fBottomMargin\":0.1,\"fTopMargin\":0.1,\"fXfile\":2,\"fYfile\":2,\"fAfile\":1,\"fXstat\":0.99,\"fYstat\":0.99,\"fAstat\":2,\"fFrameFillColor\":0,\"fFrameLineColor\":1,\"fFrameFillStyle\":1001,\"fFrameLineStyle\":1,\"fFrameLineWidth\":1,\"fFrameBorderSize\":1,\"fFrameBorderMode\":0,\"fX1\":-27.3625020386652,\"fY1\":-1338.54781558818,\"fX2\":246.262502038665,\"fY2\":6588.4249684159,\"fXtoAbsPixelk\":69.6000541484835,\"fXtoPixelk\":69.6000541484835,\"fXtoPixel\":2.54362718914131,\"fYtoAbsPixelk\":392.298178153975,\"fYtoPixelk\":392.298178153975,\"fYtoPixel\":-0.0595435373453601,\"fUtoAbsPixelk\":5e-5,\"fUtoPixelk\":5e-5,\"fUtoPixel\":696,\"fVtoAbsPixelk\":472.00005,\"fVtoPixelk\":472,\"fVtoPixel\":-472,\"fAbsPixeltoXk\":-27.3625020386652,\"fPixeltoXk\":-27.3625020386652,\"fPixeltoX\":0.393139373674325,\"fAbsPixeltoYk\":6588.4249684159,\"fPixeltoYk\":-1338.54781558818,\"fPixeltoY\":-16.7944338644154,\"fXlowNDC\":0,\"fYlowNDC\":0,\"fXUpNDC\":1,\"fYUpNDC\":1,\"fWNDC\":1,\"fHNDC\":1,\"fAbsXlowNDC\":0,\"fAbsYlowNDC\":0,\"fAbsWNDC\":1,\"fAbsHNDC\":1,\"fUxmin\":0,\"fUymin\":-545.850489939329,\"fUxmax\":218.9,\"fUymax\":5795.72764276705,\"fTheta\":30,\"fPhi\":30,\"fAspectRatio\":0,\"fNumber\":0,\"fTickx\":0,\"fTicky\":0,\"fLogx\":0,\"fLogy\":0,\"fLogz\":0,\"fPadPaint\":0,\"fCrosshair\":0,\"fCrosshairPos\":0,\"fBorderSize\":2,\"fBorderMode\":0,\"fModified\":false,\"fGridx\":false,\"fGridy\":false,\"fAbsCoord\":false,\"fEditable\":true,\"fFixedAspectRatio\":false,\"fPrimitives\":{\"_typename\":\"TList\",\"name\":\"TList\",\"arr\":[{\"_typename\":\"TFrame\",\"fUniqueID\":0,\"fBits\":8,\"fLineColor\":1,\"fLineStyle\":1,\"fLineWidth\":1,\"fFillColor\":0,\"fFillStyle\":1001,\"fX1\":0,\"fY1\":-545.850489939329,\"fX2\":218.9,\"fY2\":5795.72764276705,\"fBorderSize\":1,\"fBorderMode\":0},{\"_typename\":\"TGraph\",\"fUniqueID\":0,\"fBits\":1032,\"fName\":\"\",\"fTitle\":\"\",\"fLineColor\":1,\"fLineStyle\":1,\"fLineWidth\":1,\"fFillColor\":0,\"fFillStyle\":1000,\"fMarkerColor\":1,\"fMarkerStyle\":1,\"fMarkerSize\":1,\"fNpoints\":200,\"fX\":[0,1,2,3,4,5,6,7,8,9,10,11,12,13,14,15,16,17,18,19,20,21,22,23,24,25,26,27,28,29,30,31,32,33,34,35,36,37,38,39,40,41,42,43,44,45,46,47,48,49,50,51,52,53,54,55,56,57,58,59,60,61,62,63,64,65,66,67,68,69,70,71,72,73,74,75,76,77,78,79,80,81,82,83,84,85,86,87,88,89,90,91,92,93,94,95,96,97,98,99,100,101,102,103,104,105,106,107,108,109,110,111,112,113,114,115,116,117,118,119,120,121,122,123,124,125,126,127,128,129,130,131,132,133,134,135,136,137,138,139,140,141,142,143,144,145,146,147,148,149,150,151,152,153,154,155,156,157,158,159,160,161,162,163,164,165,166,167,168,169,170,171,172,173,174,175,176,177,178,179,180,181,182,183,184,185,186,187,188,189,190,191,192,193,194,195,196,197,198,199],\"fY\":[-0.144332273863256,-0.578929582031668,-3.64506555590759,-11.8153869325038,2.45340803973117,15.4054523445176,8.03678862098604,-17.3856455471308,2.84103641516385,-2.24821909982711,-11.8344128704094,-12.3262131441252,0.878715641197978,-3.01938370851512,-5.80439583797925,0.578383075073361,-2.68147223890463,-3.51903676599654,-2.83313833961031,1.15670062001139,-0.268772983923554,-0.853675475507675,-11.2433129018885,-4.98952942770484,4.1783532322318,-3.91358608255301,-0.940912515856326,-9.94029925111681,-3.29427366461844,-5.07461885548038,0.761384070229743,-0.415589316411492,6.0197483394295,5.10698423021223,8.97806923091412,1.25458194077857,9.74209349180018,0.27035915851593,-7.76217229536199,9.71043869913798,7.2971355272457,5.57005356873318,18.7788596913114,47.6775494818015,103.288441460157,202.589267866102,383.456615630963,661.273593921533,1056.99254629772,1528.51412562805,2046.10352577015,2570.50375502115,3053.22282868235,3497.21255532223,3895.36054302113,4256.16472572735,4611.19303607205,4883.27232032267,5094.17877051332,5230.49794970993,5267.26279837485,5227.02085818993,5114.37192142073,4950.79815780316,4737.5975518106,4501.2498317219,4236.32746118013,3980.39816035449,3710.73995822856,3449.6211647691,3187.39823853116,2936.90620947721,2697.8458145537,2443.41295371094,2197.98893729328,1966.15528968084,1757.78904880024,1557.84850133703,1389.87598313648,1240.81668812902,1124.80433818745,993.203925537134,887.752164474146,779.405792008409,711.015474812009,641.767301543645,629.762474030052,626.814229519036,672.283635317887,804.487132865472,1020.71217063865,1275.67573529904,1603.34918113069,1933.00440327619,2201.67504430666,2435.77036982019,2586.16886830939,2640.99298871189,2691.99320325513,2653.13354579783,2599.90824671594,2512.94524364575,2403.46675396311,2269.52773971204,2125.42054747635,2001.0324017913,1873.06896965277,1742.28335840531,1613.47282988106,1492.32773251698,1372.98874782622,1273.10648488275,1145.5419857367,1049.2479056147,935.457428890742,844.707438391972,745.185348346348,641.834401066462,563.302384338492,492.629806635644,427.969121043749,373.823835852465,334.176115416182,311.734762407535,288.632847627035,267.407036860243,255.537654477464,223.73282242881,212.957708375616,191.618715531556,188.747083892547,163.336642543827,145.868593304441,127.591438364804,120.605263521906,105.606568898481,105.715224290899,90.2353888312853,73.0033915391489,67.7938445983504,68.7407295952956,60.2033315471408,66.9044543810341,57.2918120007103,54.7388849296419,57.8172322305099,45.9281738908507,33.2724635966013,42.5507763887567,28.983198773254,24.2857492226469,30.5112925822314,23.4074398479362,12.9321033790056,6.45104320371341,23.5737406422878,16.3217345491571,14.5293623654497,8.81933681483365,22.5364271893613,18.7396581731526,11.1243103287547,18.1418080561245,21.7265405218642,2.45438326444116,8.72155446473276,13.4245684024265,14.2603736698822,14.0209164958821,9.2253739310891,8.99452008793877,15.2398758391815,16.1394820759157,18.448645121979,-1.76042084148368,-8.87516543146327,9.01379490559729,-12.9648587767208,-1.94630072079599,1.34589521214366,0.528952427208424,7.20510543510318,-5.23718023146353,2.41437493104602,4.8335022924503,11.161544884007,5.25231757960978,-0.358126756735146,5.34888777631979,3.66447070381922,-8.10145721398294,-7.17424333805403,-2.15654040199628,-1.78025861922652,-1.92831635664084,5.33935903779925,-10.1264605731585,-0.899673264473677,16.3828353468452,5.96611545163693],\"fFunctions\":{\"_typename\":\"TList\",\"name\":\"TList\",\"arr\":[{\"_typename\":\"TF1\",\"fUniqueID\":0,\"fBits\":1024,\"fName\":\"ffit\",\"fTitle\":\"ffit\",\"fLineColor\":2,\"fLineStyle\":1,\"fLineWidth\":2,\"fFillColor\":19,\"fFillStyle\":0,\"fMarkerColor\":1,\"fMarkerStyle\":1,\"fMarkerSize\":1,\"fXmin\":0,\"fXmax\":200,\"fNpar\":10,\"fNdim\":1,\"fNpx\":200,\"fType\":1,\"fNpfits\":200,\"fNDF\":194,\"fChisquare\":7800.63320159817,\"fMinimum\":-1111,\"fMaximum\":-1111,\"fParErrors\":[0,9.92351894883725,0.0189515951405607,0,1.71956035893836,0.0067960503961968,0,9.91647414105662,0.0111916671899598,0],\"fParMin\":[3,0,0,1,0,0,1,0,0,1],\"fParMax\":[3,10534.5255967497,200,1,5383.98640651026,200,1,4092.2070515403,200,1],\"fSave\":[0,0,0,0,0,0,0,0,0,0,0,0,0,0,0,0,0,0,0,0,0,0,0,0,0,0,0,0,0,0,0,0,0,0,0,0,0,0,0,0,0,11.3440705609299,21.0656259095663,50.4563617114345,102.550957103484,203.982321358595,383.44150027363,656.199500730881,1052.98611412966,1527.52603823396,2051.05786047155,2574.01205184162,3053.47827888754,3493.79378374185,3892.43471451892,4261.95135476671,4606.92982861614,4881.32499213299,5102.20551747583,5228.41561067446,5268.39902543797,5227.43644716323,5111.31892098752,4946.84800941101,4734.22771085528,4494.08875075073,4244.90268359365,3978.5315627017,3717.34619115164,3453.08692142063,3194.40365809734,2940.52482695355,2686.68740367761,2438.62532461313,2195.93073028471,1963.68712753368,1752.49013409745,1563.52607561717,1399.04144176842,1252.0513463373,1117.29692812404,993.62149295518,880.282938927012,779.695354624681,703.296726592603,650.366762422558,620.126654570161,624.407022425235,685.811756447882,808.32020676759,1018.52927910152,1289.24233496407,1604.25960561283,1927.0820807164,2200.72968286753,2426.35534714851,2575.24638744434,2655.80682669628,2688.93592904872,2653.69301940442,2599.11157181101,2506.27210360329,2395.27338289821,2276.56169248988,2138.20633776579,2008.60736869221,1874.68441281975,1740.03754163044,1618.61104270933,1488.80860097807,1373.50385640888,1259.76362513375,1149.49044734037,1048.50523370253,942.808011957801,843.881280941344,745.204040876467,644.715758553799,560.053946336213,483.594134891194,424.942393581519,378.428183918083,341.890576759323,315.169239117352,288.890471461567,268.240535520111,246.507553158799,228.968948242027,211.585909676468,194.350411263954,181.2803184591,153.61751594067,142.873820434979,129.988977107161,117.555857895013,110.378865671913,98.9097418097901,92.9338593016264,78.1580103692758,70.5884602839887,68.7927082685379,61.5898533873318,61.1268636255464,58.1172735411565,52.4115365753386,51.0446264670633,42.6028030118119,38.7583033949462,34.6619406015271,28.4966901512454,28.5763862164249,23.9602123393637,22.0409829454701,22.0055888840263,18.5482260445085,19.5870475104059,16.5968022860223,15.5136700378361,16.8771524243854,13.4769039661866,13.8952985101111,12.9944386864237,11.9905859517138,12.3194743514314,10.3253817245121,10.710026836012,9.74139320087711,8.68402205262043,8.31440623513479,7.79276159302648,7.21990515002079,7.2904494380024,7.99474306012517,6.90638963668042,0,0,0,0,0,0,0,0,0,0,0,0,0,0,0,0,0,0,0,0,0,0,0,0,0,0,0,0,200],\"fNormalized\":false,\"fNormIntegral\":0,\"fFormula\":null,\"fParams\":{\"_typename\":\"TF1Parameters\",\"fParameters\":[3,2317.44372529343,62.6303640784328,0,2494.33358976437,98.2276213591869,0,3568.54318023473,55.8301185210285,0],\"fParNames\":[\"p0\",\"p1\",\"p2\",\"p3\",\"p4\",\"p5\",\"p6\",\"p7\",\"p8\",\"p9\"]},\"fComposition_ptr\":null}],\"opt\":[\"\"]},\"fHistogram\":{\"_typename\":\"TH1F\",\"fUniqueID\":0,\"fBits\":520,\"fName\":\"Graph\",\"fTitle\":\"\",\"fLineColor\":602,\"fLineStyle\":1,\"fLineWidth\":1,\"fFillColor\":0,\"fFillStyle\":1001,\"fMarkerColor\":1,\"fMarkerStyle\":1,\"fMarkerSize\":1,\"fNcells\":202,\"fXaxis\":{\"_typename\":\"TAxis\",\"fUniqueID\":0,\"fBits\":0,\"fName\":\"xaxis\",\"fTitle\":\"\",\"fNdivisions\":510,\"fAxisColor\":1,\"fLabelColor\":1,\"fLabelFont\":42,\"fLabelOffset\":0.005,\"fLabelSize\":0.035,\"fTickLength\":0.03,\"fTitleOffset\":1,\"fTitleSize\":0.035,\"fTitleColor\":1,\"fTitleFont\":42,\"fNbins\":200,\"fXmin\":0,\"fXmax\":218.9,\"fXbins\":[],\"fFirst\":0,\"fLast\":0,\"fBits2\":0,\"fTimeDisplay\":false,\"fTimeFormat\":\"\",\"fLabels\":null,\"fModLabs\":null},\"fYaxis\":{\"_typename\":\"TAxis\",\"fUniqueID\":0,\"fBits\":0,\"fName\":\"yaxis\",\"fTitle\":\"\",\"fNdivisions\":510,\"fAxisColor\":1,\"fLabelColor\":1,\"fLabelFont\":42,\"fLabelOffset\":0.005,\"fLabelSize\":0.035,\"fTickLength\":0.03,\"fTitleOffset\":0,\"fTitleSize\":0.035,\"fTitleColor\":1,\"fTitleFont\":42,\"fNbins\":1,\"fXmin\":-545.850489939329,\"fXmax\":5795.72764276705,\"fXbins\":[],\"fFirst\":0,\"fLast\":0,\"fBits2\":0,\"fTimeDisplay\":false,\"fTimeFormat\":\"\",\"fLabels\":null,\"fModLabs\":null},\"fZaxis\":{\"_typename\":\"TAxis\",\"fUniqueID\":0,\"fBits\":0,\"fName\":\"zaxis\",\"fTitle\":\"\",\"fNdivisions\":510,\"fAxisColor\":1,\"fLabelColor\":1,\"fLabelFont\":42,\"fLabelOffset\":0.005,\"fLabelSize\":0.035,\"fTickLength\":0.03,\"fTitleOffset\":1,\"fTitleSize\":0.035,\"fTitleColor\":1,\"fTitleFont\":42,\"fNbins\":1,\"fXmin\":0,\"fXmax\":1,\"fXbins\":[],\"fFirst\":0,\"fLast\":0,\"fBits2\":0,\"fTimeDisplay\":false,\"fTimeFormat\":\"\",\"fLabels\":null,\"fModLabs\":null},\"fBarOffset\":0,\"fBarWidth\":1000,\"fEntries\":0,\"fTsumw\":0,\"fTsumw2\":0,\"fTsumwx\":0,\"fTsumwx2\":0,\"fMaximum\":5795.72764276705,\"fMinimum\":-545.850489939329,\"fNormFactor\":0,\"fContour\":[],\"fSumw2\":[],\"fOption\":\"\",\"fFunctions\":{\"_typename\":\"TList\",\"name\":\"TList\",\"arr\":[],\"opt\":[]},\"fBufferSize\":0,\"fBuffer\":[],\"fBinStatErrOpt\":0,\"fStatOverflows\":2,\"fArray\":[0,0,0,0,0,0,0,0,0,0,0,0,0,0,0,0,0,0,0,0,0,0,0,0,0,0,0,0,0,0,0,0,0,0,0,0,0,0,0,0,0,0,0,0,0,0,0,0,0,0,0,0,0,0,0,0,0,0,0,0,0,0,0,0,0,0,0,0,0,0,0,0,0,0,0,0,0,0,0,0,0,0,0,0,0,0,0,0,0,0,0,0,0,0,0,0,0,0,0,0,0,0,0,0,0,0,0,0,0,0,0,0,0,0,0,0,0,0,0,0,0,0,0,0,0,0,0,0,0,0,0,0,0,0,0,0,0,0,0,0,0,0,0,0,0,0,0,0,0,0,0,0,0,0,0,0,0,0,0,0,0,0,0,0,0,0,0,0,0,0,0,0,0,0,0,0,0,0,0,0,0,0,0,0,0,0,0,0,0,0,0,0,0,0,0,0,0,0,0,0,0,0]},\"fMinimum\":-1111,\"fMaximum\":-1111}],\"opt\":[\"\",\"alp\"]},\"fExecs\":null,\"fName\":\"c1\",\"fTitle\":\"c1\",\"fNumPaletteColor\":0,\"fNextPaletteColor\":0,\"fDISPLAY\":\"$DISPLAY\",\"fDoubleBuffer\":0,\"fRetained\":true,\"fXsizeUser\":0,\"fYsizeUser\":0,\"fXsizeReal\":20,\"fYsizeReal\":14.28571,\"fWindowTopX\":0,\"fWindowTopY\":0,\"fWindowWidth\":0,\"fWindowHeight\":0,\"fCw\":696,\"fCh\":472,\"fCatt\":{\"_typename\":\"TAttCanvas\",\"fXBetween\":2,\"fYBetween\":2,\"fTitleFromTop\":1.2,\"fXdate\":0.2,\"fYdate\":0.3,\"fAdate\":1},\"kMoveOpaque\":true,\"kResizeOpaque\":true,\"fHighLightColor\":2,\"fBatch\":true,\"kShowEventStatus\":false,\"kAutoExec\":true,\"kMenuBar\":true});\n",
       "            Core.draw(\"root_plot_1695112573850\", obj, \"\");\n",
       "        }\n",
       "    );\n",
       "}\n",
       "</script>\n"
      ],
      "text/plain": [
       "<IPython.core.display.HTML object>"
      ]
     },
     "metadata": {},
     "output_type": "display_data"
    }
   ],
   "source": [
    "gspe->Draw();\n",
    "c1->Draw();"
   ]
  },
  {
   "cell_type": "code",
   "execution_count": null,
   "id": "4856553b",
   "metadata": {},
   "outputs": [],
   "source": []
  }
 ],
 "metadata": {
  "kernelspec": {
   "display_name": "ROOT C++",
   "language": "c++",
   "name": "root"
  },
  "language_info": {
   "codemirror_mode": "text/x-c++src",
   "file_extension": ".C",
   "mimetype": " text/x-c++src",
   "name": "c++"
  }
 },
 "nbformat": 4,
 "nbformat_minor": 5
}
