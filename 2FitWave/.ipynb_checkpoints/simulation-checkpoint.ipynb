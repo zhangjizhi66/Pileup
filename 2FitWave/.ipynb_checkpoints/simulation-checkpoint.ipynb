{
 "cells": [
  {
   "cell_type": "code",
   "execution_count": 1,
   "id": "60220fa6",
   "metadata": {},
   "outputs": [],
   "source": [
    "const int L = 5;            // average parameter\n",
    "const int interval = 100;   // for standard waveform length and pileup\n",
    "const int rangeuseleft = -15;\n",
    "const int rangeuseright = 75;\n",
    "int rangeleft = 0;\n",
    "int rangeright = 2*interval;"
   ]
  },
  {
   "cell_type": "code",
   "execution_count": 2,
   "id": "8fc29266",
   "metadata": {
    "scrolled": true
   },
   "outputs": [
    {
     "name": "stderr",
     "output_type": "stream",
     "text": [
      "Warning in <TClass::Init>: no dictionary for class dets is available\n"
     ]
    }
   ],
   "source": [
    "%jsroot on\n",
    "TFile *ipf1 = new TFile(\"../../data/standardwave_0314_W200.root\");\n",
    "TGraph *gstd = (TGraph*)ipf1->Get(\"waveLaBr3_0\");\n",
    "TCanvas *c1 = new TCanvas;\n",
    "TRandom3 *gr = new TRandom3(0);"
   ]
  },
  {
   "cell_type": "code",
   "execution_count": 3,
   "id": "7f473e7a",
   "metadata": {},
   "outputs": [],
   "source": [
    "double ffit(double *val, double *par)\n",
    "{\n",
    "    double x = val[0];\n",
    "    int npeaks = par[0];\n",
    "    \n",
    "    double wave = 0;\n",
    "    for (int ipeak = 0; ipeak < npeaks; ipeak++){\n",
    "        double A = par[3*ipeak+1];\n",
    "        double pos = par[3*ipeak+2];\n",
    "        //int type = par[3*ipeak+3];\n",
    "        \n",
    "        if ( x - pos < rangeuseleft || x - pos > rangeuseright )\n",
    "            wave += 0;\n",
    "        else\n",
    "            wave += A * gstd->Eval(x - pos + interval);\n",
    "    }\n",
    "    return wave;\n",
    "}"
   ]
  },
  {
   "cell_type": "code",
   "execution_count": 4,
   "id": "db2685d2",
   "metadata": {},
   "outputs": [],
   "source": [
    "const int npeaks0 = 4;\n",
    "const double noise = 6;"
   ]
  },
  {
   "cell_type": "code",
   "execution_count": 5,
   "id": "9e78c89b",
   "metadata": {},
   "outputs": [],
   "source": [
    "TF1 *f0 = new TF1(\"f0\", ffit, 0, 2*interval, 3*npeaks0+1);\n",
    "double par0[] = {npeaks0, gr->Uniform(500, 5000), gr->Uniform(50, 100), 0, \n",
    "                          gr->Uniform(500, 5000), gr->Uniform(50, 100), 0, \n",
    "                          gr->Uniform(500, 5000), gr->Uniform(50, 100), 0, \n",
    "                          gr->Uniform(500, 5000), gr->Uniform(50, 100), 0};\n",
    "f0->SetParameters(par0);"
   ]
  },
  {
   "cell_type": "code",
   "execution_count": 6,
   "id": "a02f56c2",
   "metadata": {},
   "outputs": [],
   "source": [
    "TGraph *gspe = new TGraph;\n",
    "for (int ipnt = rangeleft; ipnt < rangeright; ipnt++){\n",
    "    double Noise;\n",
    "    do {\n",
    "        Noise = gr->Gaus(0, noise);\n",
    "    } while (abs(Noise) > 20);\n",
    "    gspe->SetPoint( ipnt, ipnt, f0->Eval(ipnt) + Noise );\n",
    "}"
   ]
  },
  {
   "cell_type": "code",
   "execution_count": 7,
   "id": "7384f05e",
   "metadata": {},
   "outputs": [],
   "source": [
    "TH1D *hspe = new TH1D(\"hspe\", \"hspe\", rangeright-rangeleft, rangeleft, rangeright);\n",
    "for (int ipnt = rangeleft; ipnt < rangeright; ipnt++)\n",
    "    hspe->SetBinContent(ipnt+1, gspe->GetPointY(ipnt));\n",
    "TSpectrum *s = new TSpectrum(500);\n",
    "int nfound = s->Search(hspe, 2, \"\", 0.05);\n",
    "Double_t *xpeaks = s->GetPositionX();\n",
    "vector<int> vmaxpnt;\n",
    "for (int ipeak = 0; ipeak < nfound; ipeak++)\n",
    "    vmaxpnt.push_back(xpeaks[ipeak]);"
   ]
  },
  {
   "cell_type": "code",
   "execution_count": 8,
   "id": "6908b1b2",
   "metadata": {},
   "outputs": [],
   "source": [
    "TF1 *f;\n",
    "double maxdiff = 0, mindiff = 0;\n",
    "int maxpnt = -1, minpnt = -1;\n",
    "double chi2ndf = -1;\n",
    "bool firstfit = true;"
   ]
  },
  {
   "cell_type": "code",
   "execution_count": 9,
   "id": "391ac515",
   "metadata": {
    "scrolled": false
   },
   "outputs": [],
   "source": [
    "do {\n",
    "    int npeaks = vmaxpnt.size();\n",
    "    \n",
    "    f = new TF1(\"ffit\", ffit, rangeleft, rangeright, 3*npeaks+1);\n",
    "    f->SetNpx(rangeright-rangeleft);\n",
    "\n",
    "    f->FixParameter(0, npeaks);\n",
    "    for (int ipeak = 0; ipeak < npeaks; ipeak++){\n",
    "        f->SetParameter(3*ipeak+1, gspe->GetPointY(vmaxpnt[ipeak]));\n",
    "        f->SetParLimits(3*ipeak+1, 0, 2*gspe->GetPointY(vmaxpnt[ipeak]));\n",
    "        f->SetParameter(3*ipeak+2, vmaxpnt[ipeak]);\n",
    "        f->SetParLimits(3*ipeak+2, 0, 2*interval);\n",
    "        f->FixParameter(3*ipeak+3, 0);\n",
    "    }\n",
    "\n",
    "    TFitResultPtr fr = gspe->Fit(f, \"SQR\", \"\", rangeleft, rangeright);\n",
    "    chi2ndf = fr->Chi2() / fr->Ndf();\n",
    "\n",
    "    maxdiff = 0;\n",
    "    maxpnt = -1;\n",
    "    mindiff = 0;\n",
    "    minpnt = -1;\n",
    "    for (int ipnt = rangeleft; ipnt < rangeright; ipnt++){\n",
    "        double diff = ( gspe->GetPointY(ipnt) - f->Eval(ipnt) );\n",
    "        if (diff > maxdiff){\n",
    "            maxpnt = ipnt;\n",
    "            maxdiff = diff;\n",
    "        }\n",
    "        if (diff < mindiff){\n",
    "            minpnt = ipnt;\n",
    "            mindiff = diff;\n",
    "        }\n",
    "    }\n",
    "                    \n",
    "    bool repeat = false;\n",
    "    for (int imaxpnt : vmaxpnt)\n",
    "        if ( abs(maxpnt-imaxpnt) <= 2 ){\n",
    "            repeat = true;\n",
    "            break;\n",
    "        }\n",
    "                    \n",
    "    if (!repeat)\n",
    "        vmaxpnt.push_back(maxpnt);\n",
    "    else\n",
    "        vmaxpnt.push_back(minpnt);\n",
    "} while (chi2ndf > 200 && int(vmaxpnt.size()) < nfound + 5);"
   ]
  },
  {
   "cell_type": "code",
   "execution_count": 10,
   "id": "178e8931",
   "metadata": {},
   "outputs": [
    {
     "data": {
      "text/html": [
       "\n",
       "<div id=\"root_plot_1695111827673\"\n",
       "     style=\"width: 696px; height: 472px\">\n",
       "</div>\n",
       "<script>\n",
       "if (typeof require !== 'undefined') {\n",
       "\n",
       "    // All requirements met (we are in jupyter notebooks or we loaded requirejs before).\n",
       "    display_root_plot_1695111827673();\n",
       "\n",
       "} else {\n",
       "\n",
       "    // We are in jupyterlab, we need to insert requirejs and configure it.\n",
       "    // Jupyterlab might be installed in a different base_url so we need to know it.\n",
       "    try {\n",
       "        var base_url = JSON.parse(document.getElementById('jupyter-config-data').innerHTML).baseUrl;\n",
       "    } catch(_) {\n",
       "        var base_url = '/';\n",
       "    }\n",
       "\n",
       "    // Try loading a local version of requirejs and fallback to cdn if not possible.\n",
       "    requirejs_load(base_url + 'static/components/requirejs/require.js', requirejs_success(base_url), function(){\n",
       "        requirejs_load('https://cdnjs.cloudflare.com/ajax/libs/require.js/2.2.0/require.min.js', requirejs_success(base_url), function(){\n",
       "            document.getElementById(\"root_plot_1695111827673\").innerHTML = \"Failed to load requireJs\";\n",
       "        });\n",
       "    });\n",
       "}\n",
       "\n",
       "function requirejs_load(src, on_load, on_error) {\n",
       "    var script = document.createElement('script');\n",
       "    script.src = src;\n",
       "    script.onload = on_load;\n",
       "    script.onerror = on_error;\n",
       "    document.head.appendChild(script);\n",
       "}\n",
       "\n",
       "function requirejs_success(base_url) {\n",
       "    return function() {\n",
       "        require.config({\n",
       "            baseUrl: base_url + 'static/'\n",
       "        });\n",
       "        display_root_plot_1695111827673();\n",
       "    }\n",
       "}\n",
       "\n",
       "function display_root_plot_1695111827673() {\n",
       "    require(['scripts/JSRootCore'],\n",
       "        function(Core) {\n",
       "            var obj = Core.JSONR_unref({\"_typename\":\"TCanvas\",\"fUniqueID\":0,\"fBits\":3342344,\"fLineColor\":1,\"fLineStyle\":1,\"fLineWidth\":1,\"fFillColor\":0,\"fFillStyle\":1001,\"fLeftMargin\":0.1,\"fRightMargin\":0.1,\"fBottomMargin\":0.1,\"fTopMargin\":0.1,\"fXfile\":2,\"fYfile\":2,\"fAfile\":1,\"fXstat\":0.99,\"fYstat\":0.99,\"fAstat\":2,\"fFrameFillColor\":0,\"fFrameLineColor\":1,\"fFrameFillStyle\":1001,\"fFrameLineStyle\":1,\"fFrameLineWidth\":1,\"fFrameBorderSize\":1,\"fFrameBorderMode\":0,\"fX1\":-27.3625020386652,\"fY1\":-865.974215627845,\"fX2\":246.262502038665,\"fY2\":4235.1511435665,\"fXtoAbsPixelk\":69.6000541484835,\"fXtoPixelk\":69.6000541484835,\"fXtoPixel\":2.54362718914131,\"fYtoAbsPixelk\":391.872666139569,\"fYtoPixelk\":391.872666139569,\"fYtoPixel\":-0.0925286023699182,\"fUtoAbsPixelk\":5e-5,\"fUtoPixelk\":5e-5,\"fUtoPixel\":696,\"fVtoAbsPixelk\":472.00005,\"fVtoPixelk\":472,\"fVtoPixel\":-472,\"fAbsPixeltoXk\":-27.3625020386652,\"fPixeltoXk\":-27.3625020386652,\"fPixeltoX\":0.393139373674325,\"fAbsPixeltoYk\":4235.1511435665,\"fPixeltoYk\":-865.974215627845,\"fPixeltoY\":-10.807468981344,\"fXlowNDC\":0,\"fYlowNDC\":0,\"fXUpNDC\":1,\"fYUpNDC\":1,\"fWNDC\":1,\"fHNDC\":1,\"fAbsXlowNDC\":0,\"fAbsYlowNDC\":0,\"fAbsWNDC\":1,\"fAbsHNDC\":1,\"fUxmin\":0,\"fUymin\":-355.861649303333,\"fUxmax\":218.9,\"fUymax\":3725.03857724199,\"fTheta\":30,\"fPhi\":30,\"fAspectRatio\":0,\"fNumber\":0,\"fTickx\":0,\"fTicky\":0,\"fLogx\":0,\"fLogy\":0,\"fLogz\":0,\"fPadPaint\":0,\"fCrosshair\":0,\"fCrosshairPos\":0,\"fBorderSize\":2,\"fBorderMode\":0,\"fModified\":false,\"fGridx\":false,\"fGridy\":false,\"fAbsCoord\":false,\"fEditable\":true,\"fFixedAspectRatio\":false,\"fPrimitives\":{\"_typename\":\"TList\",\"name\":\"TList\",\"arr\":[{\"_typename\":\"TFrame\",\"fUniqueID\":0,\"fBits\":8,\"fLineColor\":1,\"fLineStyle\":1,\"fLineWidth\":1,\"fFillColor\":0,\"fFillStyle\":1001,\"fX1\":0,\"fY1\":-355.861649303333,\"fX2\":218.9,\"fY2\":3725.03857724199,\"fBorderSize\":1,\"fBorderMode\":0},{\"_typename\":\"TGraph\",\"fUniqueID\":0,\"fBits\":1032,\"fName\":\"\",\"fTitle\":\"\",\"fLineColor\":1,\"fLineStyle\":1,\"fLineWidth\":1,\"fFillColor\":0,\"fFillStyle\":1000,\"fMarkerColor\":1,\"fMarkerStyle\":1,\"fMarkerSize\":1,\"fNpoints\":200,\"fX\":[0,1,2,3,4,5,6,7,8,9,10,11,12,13,14,15,16,17,18,19,20,21,22,23,24,25,26,27,28,29,30,31,32,33,34,35,36,37,38,39,40,41,42,43,44,45,46,47,48,49,50,51,52,53,54,55,56,57,58,59,60,61,62,63,64,65,66,67,68,69,70,71,72,73,74,75,76,77,78,79,80,81,82,83,84,85,86,87,88,89,90,91,92,93,94,95,96,97,98,99,100,101,102,103,104,105,106,107,108,109,110,111,112,113,114,115,116,117,118,119,120,121,122,123,124,125,126,127,128,129,130,131,132,133,134,135,136,137,138,139,140,141,142,143,144,145,146,147,148,149,150,151,152,153,154,155,156,157,158,159,160,161,162,163,164,165,166,167,168,169,170,171,172,173,174,175,176,177,178,179,180,181,182,183,184,185,186,187,188,189,190,191,192,193,194,195,196,197,198,199],\"fY\":[-2.01142364016187,0.985114655457437,0.477176663225475,6.85139460861683,-0.569518758595491,0.271331808562629,-15.7866304245557,2.27125785870414,8.19837850844267,8.55034018293006,-1.35135445989048,8.85082931846204,6.02842288711602,-4.50167602486929,-3.00366993007666,-7.04452475253493,-2.59773811977357,-4.63772350363433,1.49395221937448,-1.85952669102699,-6.62986929807812,3.65258486196399,-10.1804622053382,-4.55747207565849,-3.23459520309766,1.23970391378998,-0.655322270053194,-7.91744982203656,3.61415889376486,-3.95816535702171,-10.9725612142328,2.02877453248948,2.00329162648365,-0.822051493450999,-13.7785794496075,-9.28131839748206,1.02776280192402,0.0304330289898864,3.7986308215186,-3.90400439078365,-5.74905656958133,2.0116473627879,-0.687059682793915,-10.1816597823054,-13.1145212484826,6.69477162603289,-1.58110010996461,-2.19703161868557,-1.47699487594111,0.381499697527627,-1.43441948667169,-2.81334640178829,10.8845377755421,2.07698687993647,5.38904532749862,3.21368413390464,6.53045491843757,14.192150729184,34.791647554495,79.7584576473085,134.803858272779,246.68363262594,407.689912687644,610.997945702642,814.253199267758,1022.85607450122,1193.4182242305,1337.14176005724,1434.07772107695,1480.74583804817,1504.378649339,1485.92130370912,1472.56480014927,1438.22569448995,1410.67221513913,1420.14907972194,1448.0297691367,1554.34637542342,1683.88171881604,1857.81256969316,2061.52904401627,2267.85881995113,2495.28422893287,2731.00251592929,2924.30056798338,3109.80691849435,3207.20982966394,3266.62259292647,3265.45036481996,3234.21633330569,3218.05870537335,3180.43942475952,3207.92580394114,3252.07225449196,3305.79257113835,3357.91916662943,3384.96355836321,3365.81948525879,3309.33190302654,3219.84259009023,3100.25597222672,2937.62609010303,2783.57693367536,2590.58202634335,2412.42108389381,2234.16323473988,2053.13963356141,1876.76949531067,1727.29501664418,1557.88884994688,1431.6360417697,1293.46000351395,1171.40321160749,1064.71301325521,989.59816760289,905.455859424683,816.378888941617,739.509049213538,644.611198632077,569.502395457659,516.165609131728,447.805419631779,405.670931169744,351.729955591341,325.40677409495,301.255632193567,270.775674862131,257.578464823446,227.851134979683,216.614439190623,204.945948398456,182.441649476362,171.875086937307,145.407818225104,146.956398070089,129.955542266467,122.01376266554,118.591331439768,106.16024591669,101.251951363893,90.5580043644126,72.498192671179,83.6959379861022,59.741184155681,61.2076219792832,61.8525560458546,43.3068888505825,45.1418590652756,45.1488471725317,45.735527598279,38.4343399846907,33.3764725468731,32.9853225074323,14.4738742290948,17.3899110952874,25.963695098066,30.3656745387878,36.1777049699902,15.890518086722,23.6319079393736,17.2702605481112,25.7893226635114,18.9848840062664,10.5778308870458,0.235357960208409,18.1116276332299,1.34516371585728,9.67171688936904,-1.81921468488167,10.882002893804,8.68928742354344,-3.70112583170158,6.86169999813218,13.7265097306833,0.859671638960228,3.02399885095644,-6.27574871107936,2.94542760812014,2.75555251108742,1.77435437589884,11.7194062102209,3.6601844932884,-6.12998896087234,-4.21614168057752,2.11179712973535,-1.92987332764462,13.5862568075239,-0.783330502286731,-4.70012043784936,6.58323790132999,2.70428378987105,-11.1569407393949,1.44303137608476,0.437311457626691,-0.601599213095835,-5.31821683049632,-3.9573030481115,-0.997768130153418,-2.94363024680288,-2.61605472367587],\"fFunctions\":{\"_typename\":\"TList\",\"name\":\"TList\",\"arr\":[{\"_typename\":\"TF1\",\"fUniqueID\":0,\"fBits\":1024,\"fName\":\"ffit\",\"fTitle\":\"ffit\",\"fLineColor\":2,\"fLineStyle\":1,\"fLineWidth\":2,\"fFillColor\":19,\"fFillStyle\":0,\"fMarkerColor\":1,\"fMarkerStyle\":1,\"fMarkerSize\":1,\"fXmin\":0,\"fXmax\":200,\"fNpar\":16,\"fNdim\":1,\"fNpx\":200,\"fType\":1,\"fNpfits\":200,\"fNDF\":190,\"fChisquare\":6170.33643178226,\"fMinimum\":-1111,\"fMaximum\":-1111,\"fParErrors\":[0,0.00493987884293259,1.76237821178188e-4,0,0.00484969576387113,1.77858458964753e-4,0,0.00260937040215475,1.68115799557976e-4,0,1.44036683679839e-4,9.8238870476398,0,0.00449215456713479,3.2965482865398e-5,0],\"fParMin\":[5,0,0,1,0,0,1,0,0,1,0,0,1,0,0,1],\"fParMax\":[5,6731.63897051758,200,1,6533.24518585294,200,1,2961.49167609635,200,1,3367.76343763209,200,1,5848.60113596676,200,1],\"fSave\":[0,0,0,0,0,0,0,0,0,0,0,0,0,0,0,0,0,0,0,0,0,0,0,0,0,0,0,0,0,0,0,0,0,0,0,0,0,0,0,0,0,0,0,0,0,0,0,0,0,0,0,0,0,0,0,4.34486786724126,7.07996881246165,18.203167399738,37.1499219602938,74.6717054324956,144.283984472453,250.78817871959,408.71748348117,601.700208495605,813.546661277113,1022.42476152347,1198.43680493205,1337.31132354467,1431.22656225506,1480.43342489349,1502.83969768849,1490.63068818889,1469.97663253001,1438.34107282081,1413.48418610851,1416.17830391917,1454.00956098615,1547.63516717506,1684.5126846306,1854.67173263594,2062.75567809579,2272.00410367281,2502.75325220036,2726.18916531078,2925.81579410751,3099.5261866578,3205.54275970209,3265.14783386062,3271.17765874178,3238.99037109718,3215.40463931919,3185.94479227198,3205.14647349537,3249.73836673122,3302.91105399389,3361.79205949541,3379.53927522578,3368.00314475208,3314.19452343618,3215.75446143528,3101.77779632558,2942.62254581677,2778.66321437371,2598.93001567197,2413.31198621167,2231.2902955374,2049.71811418393,1880.23397706439,1717.1396392834,1560.95546122995,1421.58241871014,1290.88163965039,1180.5830953963,1075.15738777578,986.137794318515,899.72162909056,815.136206861163,735.866672993076,650.796417429331,578.175580474477,507.533584143653,444.832954764125,401.91794727936,355.656471651631,328.597606996817,299.437794568278,273.084794857724,259.116969508478,230.408334759465,220.21342140394,203.225842261903,182.347836796689,175.516217615352,152.905222028156,147.501573897765,134.043916619493,117.96778317433,116.542389994427,96.7864466953522,92.6541752266549,84.3271560969192,72.9751122252907,75.2997424201477,63.1719755450161,64.5370171469602,58.0517300186088,48.7482079458838,51.5268690245536,41.1383260205268,39.5458022125961,38.1402851495832,29.561841841439,32.733192093778,26.7764361919178,25.4084209118162,25.7399194670094,21.0074700551547,23.0382755895354,19.4325954200772,19.3563466001931,19.2942899580947,12.0899413412161,12.9162554404096,12.0334998445961,12.0616362681421,11.4515504126032,5.85298969685181,6.62485313174326,5.65087246868442,5.11389292733848,4.97938102389214,4.61321276913056,4.27471457465094,4.42526189429857,4.92598234442055,3.94142778227643,0,0,0,0,0,0,0,0,0,0,0,0,0,0,0,0,0,0,0,0,0,0,0,0,0,0,200],\"fNormalized\":false,\"fNormIntegral\":0,\"fFormula\":null,\"fParams\":{\"_typename\":\"TF1Parameters\",\"fParameters\":[5,1502.44456574464,100.008416373128,0,1506.36160946607,90.0010263960664,0,1502.56933214962,69.9919427568084,0,1.98452873547078,78.5383803401402,0,1490.91000030997,85.0000032680526,0],\"fParNames\":[\"p0\",\"p1\",\"p2\",\"p3\",\"p4\",\"p5\",\"p6\",\"p7\",\"p8\",\"p9\",\"p10\",\"p11\",\"p12\",\"p13\",\"p14\",\"p15\"]},\"fComposition_ptr\":null}],\"opt\":[\"\"]},\"fHistogram\":{\"_typename\":\"TH1F\",\"fUniqueID\":0,\"fBits\":520,\"fName\":\"Graph\",\"fTitle\":\"\",\"fLineColor\":602,\"fLineStyle\":1,\"fLineWidth\":1,\"fFillColor\":0,\"fFillStyle\":1001,\"fMarkerColor\":1,\"fMarkerStyle\":1,\"fMarkerSize\":1,\"fNcells\":202,\"fXaxis\":{\"_typename\":\"TAxis\",\"fUniqueID\":0,\"fBits\":0,\"fName\":\"xaxis\",\"fTitle\":\"\",\"fNdivisions\":510,\"fAxisColor\":1,\"fLabelColor\":1,\"fLabelFont\":42,\"fLabelOffset\":0.005,\"fLabelSize\":0.035,\"fTickLength\":0.03,\"fTitleOffset\":1,\"fTitleSize\":0.035,\"fTitleColor\":1,\"fTitleFont\":42,\"fNbins\":200,\"fXmin\":0,\"fXmax\":218.9,\"fXbins\":[],\"fFirst\":0,\"fLast\":0,\"fBits2\":0,\"fTimeDisplay\":false,\"fTimeFormat\":\"\",\"fLabels\":null,\"fModLabs\":null},\"fYaxis\":{\"_typename\":\"TAxis\",\"fUniqueID\":0,\"fBits\":0,\"fName\":\"yaxis\",\"fTitle\":\"\",\"fNdivisions\":510,\"fAxisColor\":1,\"fLabelColor\":1,\"fLabelFont\":42,\"fLabelOffset\":0.005,\"fLabelSize\":0.035,\"fTickLength\":0.03,\"fTitleOffset\":0,\"fTitleSize\":0.035,\"fTitleColor\":1,\"fTitleFont\":42,\"fNbins\":1,\"fXmin\":-355.861649303333,\"fXmax\":3725.03857724199,\"fXbins\":[],\"fFirst\":0,\"fLast\":0,\"fBits2\":0,\"fTimeDisplay\":false,\"fTimeFormat\":\"\",\"fLabels\":null,\"fModLabs\":null},\"fZaxis\":{\"_typename\":\"TAxis\",\"fUniqueID\":0,\"fBits\":0,\"fName\":\"zaxis\",\"fTitle\":\"\",\"fNdivisions\":510,\"fAxisColor\":1,\"fLabelColor\":1,\"fLabelFont\":42,\"fLabelOffset\":0.005,\"fLabelSize\":0.035,\"fTickLength\":0.03,\"fTitleOffset\":1,\"fTitleSize\":0.035,\"fTitleColor\":1,\"fTitleFont\":42,\"fNbins\":1,\"fXmin\":0,\"fXmax\":1,\"fXbins\":[],\"fFirst\":0,\"fLast\":0,\"fBits2\":0,\"fTimeDisplay\":false,\"fTimeFormat\":\"\",\"fLabels\":null,\"fModLabs\":null},\"fBarOffset\":0,\"fBarWidth\":1000,\"fEntries\":0,\"fTsumw\":0,\"fTsumw2\":0,\"fTsumwx\":0,\"fTsumwx2\":0,\"fMaximum\":3725.03857724199,\"fMinimum\":-355.861649303333,\"fNormFactor\":0,\"fContour\":[],\"fSumw2\":[],\"fOption\":\"\",\"fFunctions\":{\"_typename\":\"TList\",\"name\":\"TList\",\"arr\":[],\"opt\":[]},\"fBufferSize\":0,\"fBuffer\":[],\"fBinStatErrOpt\":0,\"fStatOverflows\":2,\"fArray\":[0,0,0,0,0,0,0,0,0,0,0,0,0,0,0,0,0,0,0,0,0,0,0,0,0,0,0,0,0,0,0,0,0,0,0,0,0,0,0,0,0,0,0,0,0,0,0,0,0,0,0,0,0,0,0,0,0,0,0,0,0,0,0,0,0,0,0,0,0,0,0,0,0,0,0,0,0,0,0,0,0,0,0,0,0,0,0,0,0,0,0,0,0,0,0,0,0,0,0,0,0,0,0,0,0,0,0,0,0,0,0,0,0,0,0,0,0,0,0,0,0,0,0,0,0,0,0,0,0,0,0,0,0,0,0,0,0,0,0,0,0,0,0,0,0,0,0,0,0,0,0,0,0,0,0,0,0,0,0,0,0,0,0,0,0,0,0,0,0,0,0,0,0,0,0,0,0,0,0,0,0,0,0,0,0,0,0,0,0,0,0,0,0,0,0,0,0,0,0,0,0,0]},\"fMinimum\":-1111,\"fMaximum\":-1111}],\"opt\":[\"\",\"alp\"]},\"fExecs\":null,\"fName\":\"c1\",\"fTitle\":\"c1\",\"fNumPaletteColor\":0,\"fNextPaletteColor\":0,\"fDISPLAY\":\"$DISPLAY\",\"fDoubleBuffer\":0,\"fRetained\":true,\"fXsizeUser\":0,\"fYsizeUser\":0,\"fXsizeReal\":20,\"fYsizeReal\":14.28571,\"fWindowTopX\":0,\"fWindowTopY\":0,\"fWindowWidth\":0,\"fWindowHeight\":0,\"fCw\":696,\"fCh\":472,\"fCatt\":{\"_typename\":\"TAttCanvas\",\"fXBetween\":2,\"fYBetween\":2,\"fTitleFromTop\":1.2,\"fXdate\":0.2,\"fYdate\":0.3,\"fAdate\":1},\"kMoveOpaque\":true,\"kResizeOpaque\":true,\"fHighLightColor\":2,\"fBatch\":true,\"kShowEventStatus\":false,\"kAutoExec\":true,\"kMenuBar\":true});\n",
       "            Core.draw(\"root_plot_1695111827673\", obj, \"\");\n",
       "        }\n",
       "    );\n",
       "}\n",
       "</script>\n"
      ],
      "text/plain": [
       "<IPython.core.display.HTML object>"
      ]
     },
     "metadata": {},
     "output_type": "display_data"
    }
   ],
   "source": [
    "gspe->Draw();\n",
    "c1->Draw();"
   ]
  },
  {
   "cell_type": "code",
   "execution_count": null,
   "id": "4856553b",
   "metadata": {},
   "outputs": [],
   "source": []
  }
 ],
 "metadata": {
  "kernelspec": {
   "display_name": "ROOT C++",
   "language": "c++",
   "name": "root"
  },
  "language_info": {
   "codemirror_mode": "text/x-c++src",
   "file_extension": ".C",
   "mimetype": " text/x-c++src",
   "name": "c++"
  }
 },
 "nbformat": 4,
 "nbformat_minor": 5
}
